{
  "cells": [
    {
      "cell_type": "markdown",
      "source": [
        "**CREDIT CARD FRAUD**"
      ],
      "metadata": {
        "id": "4lD3ZyD5Lu_z"
      }
    },
    {
      "cell_type": "code",
      "source": [
        "import numpy as np\n",
        "import pandas as pd\n",
        "from sklearn.model_selection import train_test_split, RandomizedSearchCV\n",
        "from sklearn.metrics import classification_report, confusion_matrix, accuracy_score, precision_recall_curve\n",
        "from xgboost import XGBClassifier\n",
        "\n",
        "# 🚀 Load Data\n",
        "df = pd.read_csv('creditcard.csv')\n",
        "\n",
        "# ✅ Data Preprocessing\n",
        "df.drop_duplicates(inplace=True)  # Remove duplicates\n",
        "df.drop(columns=['Time'], inplace=True)  # Drop 'Time' as it's not useful\n",
        "\n",
        "# 🚀 Split Features & Target\n",
        "X = df.drop(columns=['Class'])\n",
        "y = df['Class']\n",
        "\n",
        "# ✅ Train-Test Split (Stratified)\n",
        "X_train, X_test, y_train, y_test = train_test_split(X, y, test_size=0.2, random_state=42, stratify=y)\n",
        "\n",
        "# ✅ Compute Fraud-to-Non-Fraud Ratio\n",
        "fraud_ratio = len(y_train[y_train == 0]) / len(y_train[y_train == 1])\n",
        "\n",
        "# 🔹 Optimized XGBoost Hyperparameters (No SMOTE)\n",
        "param_grid_xgb = {\n",
        "    'n_estimators': [300],  # More trees for stability\n",
        "    'max_depth': [4, 6, 8],  # Prevent overfitting while allowing learning\n",
        "    'learning_rate': [0.01, 0.05, 0.1],  # Balanced learning rate\n",
        "    'subsample': [0.8, 0.9],\n",
        "    'colsample_bytree': [0.7, 0.8],\n",
        "    'scale_pos_weight': [fraud_ratio * 0.5, fraud_ratio, fraud_ratio * 1.5]  # Tuning weight for imbalance\n",
        "}\n",
        "\n",
        "# ✅ Initialize XGBoost Model\n",
        "xgb = XGBClassifier(tree_method='hist', random_state=42)\n",
        "\n",
        "# 🔍 Grid Search for Best Parameters\n",
        "grid_search_xgb = RandomizedSearchCV(xgb, param_distributions=param_grid_xgb,\n",
        "                                     cv=3, scoring='f1', n_iter=10, n_jobs=-1, random_state=42)\n",
        "grid_search_xgb.fit(X_train, y_train)\n",
        "\n",
        "# ✅ Best Model from Grid Search\n",
        "best_xgb = grid_search_xgb.best_estimator_\n",
        "\n",
        "# 🚀 Predict Probabilities\n",
        "y_pred_proba_xgb = best_xgb.predict_proba(X_test)[:, 1]\n",
        "\n",
        "# ✅ Adjust Decision Threshold Using Precision-Recall Curve\n",
        "precisions, recalls, thresholds = precision_recall_curve(y_test, y_pred_proba_xgb)\n",
        "\n",
        "# Find the best threshold where Precision & Recall are balanced\n",
        "best_index = (precisions * recalls).argmax()\n",
        "best_threshold = thresholds[best_index]\n",
        "\n",
        "# 🚀 Fine-tune: Lower the threshold slightly to improve recall\n",
        "adjusted_threshold = max(0.35, best_threshold - 0.06)  # Ensuring it doesn’t go too low\n",
        "print(f\"Optimal Threshold (Adjusted): {adjusted_threshold}\")\n",
        "\n",
        "# ✅ Apply New Threshold\n",
        "y_pred_xgb_adj = (y_pred_proba_xgb > adjusted_threshold).astype(int)\n",
        "\n",
        "\n",
        "# 📌 Model Performance\n",
        "print(\"📌 Fine-Tuned XGBoost Performance (Without SMOTE):\")\n",
        "print(classification_report(y_test, y_pred_xgb_adj))\n",
        "print(confusion_matrix(y_test, y_pred_xgb_adj))\n",
        "print(\"Accuracy:\", accuracy_score(y_test, y_pred_xgb_adj))\n"
      ],
      "metadata": {
        "colab": {
          "base_uri": "https://localhost:8080/"
        },
        "id": "uuOrE_lURtX9",
        "outputId": "283c1f59-5060-445a-b926-956e7def5849"
      },
      "execution_count": 4,
      "outputs": [
        {
          "output_type": "stream",
          "name": "stdout",
          "text": [
            "Optimal Threshold (Adjusted): 0.4350561201572418\n",
            "📌 Fine-Tuned XGBoost Performance (Without SMOTE):\n",
            "              precision    recall  f1-score   support\n",
            "\n",
            "           0       1.00      1.00      1.00     56651\n",
            "           1       0.94      0.79      0.86        95\n",
            "\n",
            "    accuracy                           1.00     56746\n",
            "   macro avg       0.97      0.89      0.93     56746\n",
            "weighted avg       1.00      1.00      1.00     56746\n",
            "\n",
            "[[56646     5]\n",
            " [   20    75]]\n",
            "Accuracy: 0.9995594403129736\n"
          ]
        }
      ]
    }
  ],
  "metadata": {
    "colab": {
      "provenance": []
    },
    "kernelspec": {
      "display_name": "Python 3",
      "name": "python3"
    },
    "language_info": {
      "name": "python"
    }
  },
  "nbformat": 4,
  "nbformat_minor": 0
}